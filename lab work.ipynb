{
 "cells": [
  {
   "cell_type": "code",
   "execution_count": null,
   "id": "20c702bd",
   "metadata": {},
   "outputs": [],
   "source": [
    "import pandas as pd\n",
    "import matplotlib.pyplot as plt\n",
    "import seaborn as sns\n",
    "import numpy as np\n",
    "\n",
    "%matplotlib inline  \n",
    "df = pd.read_csv(r\"C:\\Users\\etsus\\Desktop\\IRONHACK\\lab work\\lab-eda-univariate\\amz_uk_price_prediction_dataset.csv\")"
   ]
  },
  {
   "cell_type": "code",
   "execution_count": null,
   "id": "16aec724",
   "metadata": {},
   "outputs": [],
   "source": [
    "df.head()"
   ]
  },
  {
   "cell_type": "code",
   "execution_count": null,
   "id": "aae9182c",
   "metadata": {},
   "outputs": [],
   "source": [
    "frequency_table = df['category'].value_counts()\n",
    "proportion_table = df['category'].value_counts(normalize=True)\n",
    "frequency_table, proportion_table*100"
   ]
  },
  {
   "cell_type": "code",
   "execution_count": null,
   "id": "99c52fca",
   "metadata": {},
   "outputs": [],
   "source": [
    "frequency_table = df['category'].value_counts().head(5)\n",
    "proportion_table = df['category'].value_counts(normalize=True).head(5)\n",
    "display(frequency_table, proportion_table*100)"
   ]
  },
  {
   "cell_type": "code",
   "execution_count": null,
   "id": "023485f8",
   "metadata": {},
   "outputs": [],
   "source": [
    "sns.barplot(y=frequency_table.index, x=frequency_table.values, color=\"salmon\");"
   ]
  },
  {
   "cell_type": "code",
   "execution_count": null,
   "id": "dfd8d605",
   "metadata": {},
   "outputs": [],
   "source": [
    "top_5_frequency = df['category'].value_counts().head(5)\n",
    "top_5_frequency.plot.pie(autopct='%1.1f%%', startangle=90, colors=sns.color_palette(\"Set3\"))\n",
    "plt.show() \n",
    "\n",
    "# Even when using only top5 its still hard do display due a nature of piechart."
   ]
  },
  {
   "cell_type": "code",
   "execution_count": null,
   "id": "5a4c695d",
   "metadata": {},
   "outputs": [],
   "source": [
    "df['price'].describe()\n",
    "# The average price is 8,92 , while mode is 3,45 that means prie vary significantly from the price. "
   ]
  },
  {
   "cell_type": "code",
   "execution_count": null,
   "id": "1ea688a2",
   "metadata": {},
   "outputs": [],
   "source": [
    "variance_price = df['price'].var()\n",
    "std_dev_price = df['price'].std()\n",
    "min_price = df['price'].min()\n",
    "max_price = df['price'].max()\n",
    "range_price = max_price - min_price\n",
    "quantiles_price = df['price'].quantile([0.25, 0.5, 0.75])\n",
    "variance_price, std_dev_price, min_price, max_price, range_price, quantiles_price\n",
    "\n",
    "# How varied are the product prices? Are there any indicators of a significant spread in prices?\n",
    "# Range of prices is 100.000 that means the spread is not that significant, spread is also not that big."
   ]
  },
  {
   "cell_type": "code",
   "execution_count": null,
   "id": "902b4968",
   "metadata": {},
   "outputs": [],
   "source": [
    "sns.histplot(df['price'], kde=True, bins=30, color=\"salmon\")"
   ]
  },
  {
   "cell_type": "code",
   "execution_count": null,
   "id": "c6e9a966",
   "metadata": {},
   "outputs": [],
   "source": [
    "df['price'].hist(figsize=(10,10), bins=3, xlabelsize=50, ylabelsize=50, color=\"salmon\");"
   ]
  },
  {
   "cell_type": "code",
   "execution_count": null,
   "id": "101fe39b",
   "metadata": {},
   "outputs": [],
   "source": [
    "sns.boxplot(data = df['price'], color=\"salmon\")\n",
    "#Both visualizations underscore the presence of outliers in the higher price range. These outliers might be luxury products."
   ]
  },
  {
   "cell_type": "code",
   "execution_count": null,
   "id": "e98bfdb8",
   "metadata": {},
   "outputs": [],
   "source": [
    "df['stars'].describe()\n",
    "# Average rating is 2 stars, std is 2 which shows that it varies not much from the average. "
   ]
  },
  {
   "cell_type": "code",
   "execution_count": null,
   "id": "1b1df0e4",
   "metadata": {},
   "outputs": [],
   "source": [
    "variance_price = df['stars'].var()\n",
    "std_dev_price = df['stars'].std()\n",
    "min_price = df['stars'].min()\n",
    "max_price = df['stars'].max()\n",
    "range_price = max_price - min_price\n",
    "quantiles_price = df['stars'].quantile([0.25, 0.5, 0.75])\n",
    "variance_price, std_dev_price, min_price, max_price, range_price, quantiles_price\n",
    "\n",
    "#The variance, a measure of how far each rating in the set is from the mean, \n",
    "#is approximately (4,8). A high variance implies that ratings can be quite different from one another."
   ]
  },
  {
   "cell_type": "code",
   "execution_count": null,
   "id": "0cf33817",
   "metadata": {},
   "outputs": [],
   "source": [
    "skewness_price = df['stars'].skew()\n",
    "kurtosis_price = df['stars'].kurtosis()\n",
    "\n",
    "skewness_price, kurtosis_price\n",
    "\n",
    "# Kurtosis: The kurtosis value of -1,92 is lower than 3, which indicates that the ratings distribution has \n",
    "# lighter tails  compared to a normal distribution. Skewness shows ratings being closer to average and just a bit at higher side."
   ]
  },
  {
   "cell_type": "code",
   "execution_count": null,
   "id": "c7e616fd",
   "metadata": {},
   "outputs": [],
   "source": [
    "sns.histplot(df['stars'], kde=True, bins=30, color=\"salmon\")\n",
    "#Shows more prices closer to 0 "
   ]
  },
  {
   "cell_type": "code",
   "execution_count": null,
   "id": "2700cf2a",
   "metadata": {},
   "outputs": [],
   "source": []
  }
 ],
 "metadata": {
  "kernelspec": {
   "display_name": "Python 3 (ipykernel)",
   "language": "python",
   "name": "python3"
  },
  "language_info": {
   "codemirror_mode": {
    "name": "ipython",
    "version": 3
   },
   "file_extension": ".py",
   "mimetype": "text/x-python",
   "name": "python",
   "nbconvert_exporter": "python",
   "pygments_lexer": "ipython3",
   "version": "3.11.5"
  }
 },
 "nbformat": 4,
 "nbformat_minor": 5
}
